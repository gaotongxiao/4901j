{
 "cells": [
  {
   "cell_type": "markdown",
   "metadata": {},
   "source": [
    "# Model-Based RL\n",
    "In this exercise you will implement a policy and model network which work in tandem to solve the CartPole reinforcement learning problem."
   ]
  },
  {
   "cell_type": "markdown",
   "metadata": {},
   "source": [
    "What is a model and why would we want to use one? In this case, a model is going to be a neural network that attempts to learn the dynamics of the real environment. For example, in the CartPole we would like a model to be able to predict the next position of the Cart given the previous position and an action. By learning an accurate model, we can train our agent using the model rather than requiring to use the real environment every time. "
   ]
  },
  {
   "cell_type": "markdown",
   "metadata": {},
   "source": [
    "How are we going to accomplish this in Tensorflow? We are going to be using a neural network that will learn the transition dynamics between a previous observation and action, and the expected new observation, reward, and done state. Our training procedure will involve switching between training our model using the real environment, and training our agent’s policy using the model environment. By using this approach we will be able to learn a policy that allows our agent to solve the CartPole task without actually ever training the policy on the real environment! "
   ]
  },
  {
   "cell_type": "markdown",
   "metadata": {},
   "source": [
    "### Loading libraries and starting CartPole environment"
   ]
  },
  {
   "cell_type": "code",
   "execution_count": 1,
   "metadata": {
    "collapsed": true
   },
   "outputs": [],
   "source": [
    "from __future__ import print_function\n",
    "import numpy as np\n",
    "try:\n",
    "    import cPickle as pickle\n",
    "except:\n",
    "    import pickle\n",
    "import tensorflow as tf\n",
    "%matplotlib inline\n",
    "import matplotlib.pyplot as plt\n",
    "import math"
   ]
  },
  {
   "cell_type": "code",
   "execution_count": 2,
   "metadata": {
    "collapsed": true
   },
   "outputs": [],
   "source": [
    "import sys\n",
    "if sys.version_info.major > 2:\n",
    "    xrange = range\n",
    "del sys"
   ]
  },
  {
   "cell_type": "code",
   "execution_count": 3,
   "metadata": {},
   "outputs": [
    {
     "name": "stderr",
     "output_type": "stream",
     "text": [
      "[2017-07-21 10:37:39,294] Making new env: CartPole-v0\n"
     ]
    }
   ],
   "source": [
    "import gym\n",
    "env = gym.make('CartPole-v0')"
   ]
  },
  {
   "cell_type": "markdown",
   "metadata": {},
   "source": [
    "### Setting Hyper-parameters"
   ]
  },
  {
   "cell_type": "code",
   "execution_count": 4,
   "metadata": {
    "collapsed": true
   },
   "outputs": [],
   "source": [
    "# hyperparameters\n",
    "H = 8 # number of hidden layer neurons\n",
    "learning_rate = 1e-2\n",
    "gamma = 0.99 # discount factor for reward\n",
    "decay_rate = 0.99 # decay factor for RMSProp leaky sum of grad^2\n",
    "resume = False # resume from previous checkpoint?\n",
    "\n",
    "model_bs = 3 # Batch size when learning from model\n",
    "real_bs = 3 # Batch size when learning from real environment\n",
    "\n",
    "# model initialization\n",
    "D = 4 # input dimensionality"
   ]
  },
  {
   "cell_type": "markdown",
   "metadata": {},
   "source": [
    "### Policy Network"
   ]
  },
  {
   "cell_type": "code",
   "execution_count": 5,
   "metadata": {
    "collapsed": true
   },
   "outputs": [],
   "source": [
    "tf.reset_default_graph()\n",
    "observations = tf.placeholder(tf.float32, [None,4] , name=\"input_x\")\n",
    "W1 = tf.get_variable(\"W1\", shape=[4, H],\n",
    "           initializer=tf.contrib.layers.xavier_initializer())\n",
    "layer1 = tf.nn.relu(tf.matmul(observations,W1))\n",
    "W2 = tf.get_variable(\"W2\", shape=[H, 1],\n",
    "           initializer=tf.contrib.layers.xavier_initializer())\n",
    "score = tf.matmul(layer1,W2)\n",
    "probability = tf.nn.sigmoid(score)\n",
    "\n",
    "tvars = tf.trainable_variables()\n",
    "input_y = tf.placeholder(tf.float32,[None,1], name=\"input_y\")\n",
    "advantages = tf.placeholder(tf.float32,name=\"reward_signal\")\n",
    "adam = tf.train.AdamOptimizer(learning_rate=learning_rate)\n",
    "W1Grad = tf.placeholder(tf.float32,name=\"batch_grad1\")\n",
    "W2Grad = tf.placeholder(tf.float32,name=\"batch_grad2\")\n",
    "batchGrad = [W1Grad,W2Grad]\n",
    "\n",
    "################################################################################\n",
    "# TODO: Implement the loss function.                                           #\n",
    "# This sends the weights in the direction of making actions that gave good     #\n",
    "# advantage (reward overtime) more likely, and actions that didn't less likely.#\n",
    "################################################################################\n",
    "pass\n",
    "################################################################################\n",
    "#                                 END OF YOUR CODE                             #\n",
    "################################################################################\n",
    "\n",
    "newGrads = tf.gradients(loss,tvars)\n",
    "updateGrads = adam.apply_gradients(zip(batchGrad,tvars))"
   ]
  },
  {
   "cell_type": "markdown",
   "metadata": {},
   "source": [
    "### Model Network\n",
    "Here we implement a multi-layer neural network that predicts the next observation, reward, and done state from a current state and action."
   ]
  },
  {
   "cell_type": "code",
   "execution_count": 6,
   "metadata": {
    "collapsed": true
   },
   "outputs": [],
   "source": [
    "mH = 256 # model layer size\n",
    "\n",
    "input_data = tf.placeholder(tf.float32, [None, 5])\n",
    "with tf.variable_scope('rnnlm'):\n",
    "    softmax_w = tf.get_variable(\"softmax_w\", [mH, 50])\n",
    "    softmax_b = tf.get_variable(\"softmax_b\", [50])\n",
    "\n",
    "previous_state = tf.placeholder(tf.float32, [None,5] , name=\"previous_state\")\n",
    "W1M = tf.get_variable(\"W1M\", shape=[5, mH],\n",
    "           initializer=tf.contrib.layers.xavier_initializer())\n",
    "B1M = tf.Variable(tf.zeros([mH]),name=\"B1M\")\n",
    "layer1M = tf.nn.relu(tf.matmul(previous_state,W1M) + B1M)\n",
    "W2M = tf.get_variable(\"W2M\", shape=[mH, mH],\n",
    "           initializer=tf.contrib.layers.xavier_initializer())\n",
    "B2M = tf.Variable(tf.zeros([mH]),name=\"B2M\")\n",
    "layer2M = tf.nn.relu(tf.matmul(layer1M,W2M) + B2M)\n",
    "wO = tf.get_variable(\"wO\", shape=[mH, 4],\n",
    "           initializer=tf.contrib.layers.xavier_initializer())\n",
    "wR = tf.get_variable(\"wR\", shape=[mH, 1],\n",
    "           initializer=tf.contrib.layers.xavier_initializer())\n",
    "wD = tf.get_variable(\"wD\", shape=[mH, 1],\n",
    "           initializer=tf.contrib.layers.xavier_initializer())\n",
    "\n",
    "bO = tf.Variable(tf.zeros([4]),name=\"bO\")\n",
    "bR = tf.Variable(tf.zeros([1]),name=\"bR\")\n",
    "bD = tf.Variable(tf.ones([1]),name=\"bD\")\n",
    "\n",
    "\n",
    "predicted_observation = tf.matmul(layer2M,wO,name=\"predicted_observation\") + bO\n",
    "predicted_reward = tf.matmul(layer2M,wR,name=\"predicted_reward\") + bR\n",
    "predicted_done = tf.sigmoid(tf.matmul(layer2M,wD,name=\"predicted_done\") + bD)\n",
    "\n",
    "true_observation = tf.placeholder(tf.float32,[None,4],name=\"true_observation\")\n",
    "true_reward = tf.placeholder(tf.float32,[None,1],name=\"true_reward\")\n",
    "true_done = tf.placeholder(tf.float32,[None,1],name=\"true_done\")\n",
    "\n",
    "\n",
    "predicted_state = tf.concat([predicted_observation,predicted_reward,predicted_done],1)\n",
    "\n",
    "observation_loss = tf.square(true_observation - predicted_observation)\n",
    "\n",
    "reward_loss = tf.square(true_reward - predicted_reward)\n",
    "\n",
    "done_loss = tf.multiply(predicted_done, true_done) + tf.multiply(1-predicted_done, 1-true_done)\n",
    "done_loss = -tf.log(done_loss)\n",
    "\n",
    "model_loss = tf.reduce_mean(observation_loss + done_loss + reward_loss)\n",
    "\n",
    "modelAdam = tf.train.AdamOptimizer(learning_rate=learning_rate)\n",
    "updateModel = modelAdam.minimize(model_loss)"
   ]
  },
  {
   "cell_type": "markdown",
   "metadata": {},
   "source": [
    "### Helper-functions"
   ]
  },
  {
   "cell_type": "code",
   "execution_count": 7,
   "metadata": {
    "collapsed": true
   },
   "outputs": [],
   "source": [
    "def resetGradBuffer(gradBuffer):\n",
    "    for ix,grad in enumerate(gradBuffer):\n",
    "        gradBuffer[ix] = grad * 0\n",
    "    return gradBuffer\n",
    "\n",
    "def discount_rewards(r):\n",
    "    ################################################################################\n",
    "    # TODO: Implement the discounted rewards function                              #\n",
    "    # Return discounted rewards weighed by gamma. Each reward will be replaced     #\n",
    "    # with a weight reward that involves itself and all the other rewards occuring #\n",
    "    # after it. The later the reward after it happens, the less effect it has on   #\n",
    "    # the current rewards's discounted reward                                      #\n",
    "    # Hint: [r0, r1, r2, ..., r_N] will look someting like:                        #\n",
    "    #       [(r0 + r1*gamma^1 + ... r_N*gamma^N), (r1 + r2*gamma^1 + ...), ...]    #\n",
    "    ################################################################################\n",
    "    pass   \n",
    "    ################################################################################\n",
    "    #                                 END OF YOUR CODE                             #\n",
    "    ################################################################################\n",
    "\n",
    "# This function uses our model to produce a new state when given a previous state and action\n",
    "def stepModel(sess, xs, action):\n",
    "    toFeed = np.reshape(np.hstack([xs[-1][0],np.array(action)]),[1,5])\n",
    "    myPredict = sess.run([predicted_state],feed_dict={previous_state: toFeed})\n",
    "    reward = myPredict[0][:,4]\n",
    "    observation = myPredict[0][:,0:4]\n",
    "    observation[:,0] = np.clip(observation[:,0],-2.4,2.4)\n",
    "    observation[:,2] = np.clip(observation[:,2],-0.4,0.4)\n",
    "    doneP = np.clip(myPredict[0][:,5],0,1)\n",
    "    if doneP > 0.1 or len(xs)>= 300:\n",
    "        done = True\n",
    "    else:\n",
    "        done = False\n",
    "    return observation, reward, done"
   ]
  },
  {
   "cell_type": "markdown",
   "metadata": {},
   "source": [
    "## Training the Policy and Model"
   ]
  },
  {
   "cell_type": "code",
   "execution_count": 8,
   "metadata": {
    "scrolled": true
   },
   "outputs": [
    {
     "name": "stdout",
     "output_type": "stream",
     "text": [
      "World Perf: Episode 4.000000. Reward 15.000000. action: 0.000000. mean reward 15.000000.\n",
      "World Perf: Episode 7.000000. Reward 24.666667. action: 1.000000. mean reward 15.096667.\n",
      "World Perf: Episode 10.000000. Reward 29.000000. action: 0.000000. mean reward 15.235700.\n",
      "World Perf: Episode 13.000000. Reward 38.333333. action: 1.000000. mean reward 15.466676.\n",
      "World Perf: Episode 16.000000. Reward 13.666667. action: 1.000000. mean reward 15.448676.\n",
      "World Perf: Episode 19.000000. Reward 23.333333. action: 1.000000. mean reward 15.527523.\n",
      "World Perf: Episode 22.000000. Reward 22.666667. action: 1.000000. mean reward 15.598914.\n",
      "World Perf: Episode 25.000000. Reward 17.000000. action: 1.000000. mean reward 15.612925.\n",
      "World Perf: Episode 28.000000. Reward 12.000000. action: 0.000000. mean reward 15.576796.\n",
      "World Perf: Episode 31.000000. Reward 26.000000. action: 1.000000. mean reward 15.681028.\n",
      "World Perf: Episode 34.000000. Reward 16.000000. action: 0.000000. mean reward 15.684218.\n",
      "World Perf: Episode 37.000000. Reward 35.000000. action: 1.000000. mean reward 15.877375.\n",
      "World Perf: Episode 40.000000. Reward 25.000000. action: 1.000000. mean reward 15.968602.\n",
      "World Perf: Episode 43.000000. Reward 13.000000. action: 1.000000. mean reward 15.938916.\n",
      "World Perf: Episode 46.000000. Reward 15.333333. action: 1.000000. mean reward 15.932860.\n",
      "World Perf: Episode 49.000000. Reward 21.000000. action: 0.000000. mean reward 15.983531.\n",
      "World Perf: Episode 52.000000. Reward 18.000000. action: 0.000000. mean reward 16.003696.\n",
      "World Perf: Episode 55.000000. Reward 20.666667. action: 0.000000. mean reward 16.050326.\n",
      "World Perf: Episode 58.000000. Reward 16.666667. action: 0.000000. mean reward 16.056489.\n",
      "World Perf: Episode 61.000000. Reward 14.666667. action: 0.000000. mean reward 16.042591.\n",
      "World Perf: Episode 64.000000. Reward 17.000000. action: 1.000000. mean reward 16.052165.\n",
      "World Perf: Episode 67.000000. Reward 20.000000. action: 0.000000. mean reward 16.091643.\n",
      "World Perf: Episode 70.000000. Reward 26.000000. action: 0.000000. mean reward 16.190727.\n",
      "World Perf: Episode 73.000000. Reward 23.666667. action: 1.000000. mean reward 16.265486.\n",
      "World Perf: Episode 76.000000. Reward 18.000000. action: 0.000000. mean reward 16.282831.\n",
      "World Perf: Episode 79.000000. Reward 29.666667. action: 1.000000. mean reward 16.416670.\n",
      "World Perf: Episode 82.000000. Reward 16.333333. action: 0.000000. mean reward 16.415836.\n",
      "World Perf: Episode 85.000000. Reward 19.666667. action: 1.000000. mean reward 16.448345.\n",
      "World Perf: Episode 88.000000. Reward 11.000000. action: 0.000000. mean reward 16.393861.\n",
      "World Perf: Episode 91.000000. Reward 24.666667. action: 1.000000. mean reward 16.476589.\n",
      "World Perf: Episode 94.000000. Reward 17.666667. action: 0.000000. mean reward 16.488490.\n",
      "World Perf: Episode 97.000000. Reward 16.000000. action: 1.000000. mean reward 16.483605.\n",
      "World Perf: Episode 100.000000. Reward 22.333333. action: 0.000000. mean reward 16.542102.\n",
      "World Perf: Episode 103.000000. Reward 23.000000. action: 0.000000. mean reward 16.606681.\n",
      "World Perf: Episode 106.000000. Reward 13.000000. action: 0.000000. mean reward 16.574827.\n",
      "World Perf: Episode 109.000000. Reward 15.666667. action: 1.000000. mean reward 17.074030.\n",
      "World Perf: Episode 112.000000. Reward 25.666667. action: 1.000000. mean reward 17.191725.\n",
      "World Perf: Episode 115.000000. Reward 16.000000. action: 0.000000. mean reward 17.095387.\n",
      "World Perf: Episode 118.000000. Reward 17.333333. action: 1.000000. mean reward 17.113611.\n",
      "World Perf: Episode 121.000000. Reward 23.000000. action: 0.000000. mean reward 17.145855.\n",
      "World Perf: Episode 124.000000. Reward 25.333333. action: 0.000000. mean reward 17.158609.\n",
      "World Perf: Episode 127.000000. Reward 31.333333. action: 1.000000. mean reward 17.310760.\n",
      "World Perf: Episode 130.000000. Reward 34.666667. action: 0.000000. mean reward 17.487923.\n",
      "World Perf: Episode 133.000000. Reward 20.000000. action: 0.000000. mean reward 17.481220.\n",
      "World Perf: Episode 136.000000. Reward 14.000000. action: 1.000000. mean reward 17.444431.\n",
      "World Perf: Episode 139.000000. Reward 23.000000. action: 1.000000. mean reward 17.513895.\n",
      "World Perf: Episode 142.000000. Reward 21.333333. action: 0.000000. mean reward 17.619574.\n",
      "World Perf: Episode 145.000000. Reward 20.666667. action: 0.000000. mean reward 19.770695.\n",
      "World Perf: Episode 148.000000. Reward 32.666667. action: 1.000000. mean reward 19.775049.\n",
      "World Perf: Episode 151.000000. Reward 19.666667. action: 1.000000. mean reward 19.650585.\n",
      "World Perf: Episode 154.000000. Reward 14.333333. action: 1.000000. mean reward 19.538593.\n",
      "World Perf: Episode 157.000000. Reward 22.000000. action: 1.000000. mean reward 19.465046.\n",
      "World Perf: Episode 160.000000. Reward 44.000000. action: 1.000000. mean reward 19.619829.\n",
      "World Perf: Episode 163.000000. Reward 17.000000. action: 0.000000. mean reward 20.122816.\n",
      "World Perf: Episode 166.000000. Reward 29.000000. action: 1.000000. mean reward 20.313374.\n",
      "World Perf: Episode 169.000000. Reward 24.000000. action: 1.000000. mean reward 20.244858.\n",
      "World Perf: Episode 172.000000. Reward 73.333333. action: 1.000000. mean reward 20.727507.\n",
      "World Perf: Episode 175.000000. Reward 61.333333. action: 1.000000. mean reward 21.059574.\n",
      "World Perf: Episode 178.000000. Reward 18.666667. action: 0.000000. mean reward 21.004269.\n",
      "World Perf: Episode 181.000000. Reward 25.000000. action: 1.000000. mean reward 21.291636.\n",
      "World Perf: Episode 184.000000. Reward 22.000000. action: 1.000000. mean reward 21.141567.\n",
      "World Perf: Episode 187.000000. Reward 34.666667. action: 1.000000. mean reward 21.204718.\n",
      "World Perf: Episode 190.000000. Reward 29.666667. action: 0.000000. mean reward 21.138172.\n",
      "World Perf: Episode 193.000000. Reward 52.000000. action: 1.000000. mean reward 21.385124.\n",
      "World Perf: Episode 196.000000. Reward 38.666667. action: 1.000000. mean reward 21.419159.\n",
      "World Perf: Episode 199.000000. Reward 38.666667. action: 0.000000. mean reward 21.603354.\n",
      "World Perf: Episode 202.000000. Reward 18.666667. action: 0.000000. mean reward 25.088499.\n",
      "World Perf: Episode 205.000000. Reward 47.000000. action: 1.000000. mean reward 25.946793.\n",
      "World Perf: Episode 208.000000. Reward 27.333333. action: 1.000000. mean reward 25.804649.\n",
      "World Perf: Episode 211.000000. Reward 27.666667. action: 1.000000. mean reward 25.802256.\n",
      "World Perf: Episode 214.000000. Reward 15.000000. action: 1.000000. mean reward 26.306952.\n",
      "World Perf: Episode 217.000000. Reward 28.000000. action: 1.000000. mean reward 27.990290.\n",
      "World Perf: Episode 220.000000. Reward 27.333333. action: 0.000000. mean reward 27.747940.\n",
      "World Perf: Episode 223.000000. Reward 46.666667. action: 0.000000. mean reward 27.703005.\n",
      "World Perf: Episode 226.000000. Reward 47.333333. action: 1.000000. mean reward 27.804810.\n",
      "World Perf: Episode 229.000000. Reward 41.333333. action: 1.000000. mean reward 28.122299.\n",
      "World Perf: Episode 232.000000. Reward 17.000000. action: 0.000000. mean reward 27.948418.\n",
      "World Perf: Episode 235.000000. Reward 43.666667. action: 1.000000. mean reward 27.941376.\n",
      "World Perf: Episode 238.000000. Reward 22.000000. action: 1.000000. mean reward 27.802134.\n",
      "World Perf: Episode 241.000000. Reward 22.333333. action: 1.000000. mean reward 27.635702.\n",
      "World Perf: Episode 244.000000. Reward 22.000000. action: 1.000000. mean reward 27.427292.\n",
      "World Perf: Episode 247.000000. Reward 55.666667. action: 0.000000. mean reward 27.525673.\n",
      "World Perf: Episode 250.000000. Reward 32.000000. action: 1.000000. mean reward 27.344084.\n",
      "World Perf: Episode 253.000000. Reward 34.666667. action: 0.000000. mean reward 27.327660.\n",
      "World Perf: Episode 256.000000. Reward 52.000000. action: 0.000000. mean reward 27.510948.\n",
      "World Perf: Episode 259.000000. Reward 45.666667. action: 0.000000. mean reward 27.613510.\n",
      "World Perf: Episode 262.000000. Reward 20.000000. action: 0.000000. mean reward 27.308840.\n",
      "World Perf: Episode 265.000000. Reward 39.666667. action: 0.000000. mean reward 27.205969.\n",
      "World Perf: Episode 268.000000. Reward 28.000000. action: 0.000000. mean reward 27.068100.\n",
      "World Perf: Episode 271.000000. Reward 42.333333. action: 0.000000. mean reward 29.246077.\n",
      "World Perf: Episode 274.000000. Reward 41.000000. action: 0.000000. mean reward 29.162115.\n"
     ]
    },
    {
     "name": "stdout",
     "output_type": "stream",
     "text": [
      "World Perf: Episode 277.000000. Reward 33.333333. action: 0.000000. mean reward 29.524504.\n",
      "World Perf: Episode 280.000000. Reward 55.666667. action: 1.000000. mean reward 31.033724.\n",
      "World Perf: Episode 283.000000. Reward 26.000000. action: 0.000000. mean reward 30.864882.\n",
      "World Perf: Episode 286.000000. Reward 18.000000. action: 0.000000. mean reward 30.579798.\n",
      "World Perf: Episode 289.000000. Reward 24.000000. action: 1.000000. mean reward 30.348389.\n",
      "World Perf: Episode 292.000000. Reward 42.666667. action: 1.000000. mean reward 30.342848.\n",
      "World Perf: Episode 295.000000. Reward 34.666667. action: 0.000000. mean reward 30.327089.\n",
      "World Perf: Episode 298.000000. Reward 83.666667. action: 0.000000. mean reward 30.794790.\n",
      "World Perf: Episode 301.000000. Reward 52.666667. action: 0.000000. mean reward 30.805267.\n",
      "World Perf: Episode 304.000000. Reward 36.000000. action: 0.000000. mean reward 30.627138.\n",
      "World Perf: Episode 307.000000. Reward 21.666667. action: 0.000000. mean reward 31.089920.\n",
      "World Perf: Episode 310.000000. Reward 38.333333. action: 0.000000. mean reward 31.041193.\n",
      "World Perf: Episode 313.000000. Reward 41.666667. action: 0.000000. mean reward 30.895491.\n",
      "World Perf: Episode 316.000000. Reward 54.000000. action: 0.000000. mean reward 31.105658.\n",
      "World Perf: Episode 319.000000. Reward 77.000000. action: 0.000000. mean reward 31.760727.\n",
      "World Perf: Episode 322.000000. Reward 21.333333. action: 0.000000. mean reward 31.644712.\n",
      "World Perf: Episode 325.000000. Reward 47.000000. action: 0.000000. mean reward 34.418789.\n",
      "World Perf: Episode 328.000000. Reward 37.333333. action: 1.000000. mean reward 34.953175.\n",
      "World Perf: Episode 331.000000. Reward 70.000000. action: 0.000000. mean reward 35.077648.\n",
      "World Perf: Episode 334.000000. Reward 31.000000. action: 0.000000. mean reward 37.783436.\n",
      "World Perf: Episode 337.000000. Reward 28.333333. action: 0.000000. mean reward 39.515980.\n",
      "World Perf: Episode 340.000000. Reward 74.000000. action: 0.000000. mean reward 40.905716.\n",
      "World Perf: Episode 343.000000. Reward 44.333333. action: 0.000000. mean reward 40.941959.\n",
      "World Perf: Episode 346.000000. Reward 37.666667. action: 0.000000. mean reward 51.967121.\n",
      "World Perf: Episode 349.000000. Reward 36.000000. action: 0.000000. mean reward 54.487118.\n",
      "World Perf: Episode 352.000000. Reward 21.000000. action: 1.000000. mean reward 53.689304.\n",
      "World Perf: Episode 355.000000. Reward 35.666667. action: 1.000000. mean reward 59.579380.\n",
      "World Perf: Episode 358.000000. Reward 66.666667. action: 1.000000. mean reward 59.202694.\n",
      "World Perf: Episode 361.000000. Reward 78.666667. action: 1.000000. mean reward 58.856949.\n",
      "World Perf: Episode 364.000000. Reward 34.000000. action: 1.000000. mean reward 58.128281.\n",
      "World Perf: Episode 367.000000. Reward 77.666667. action: 0.000000. mean reward 58.623020.\n",
      "World Perf: Episode 370.000000. Reward 57.333333. action: 1.000000. mean reward 58.095364.\n",
      "World Perf: Episode 373.000000. Reward 39.000000. action: 0.000000. mean reward 57.392757.\n",
      "World Perf: Episode 376.000000. Reward 30.666667. action: 1.000000. mean reward 57.053970.\n",
      "World Perf: Episode 379.000000. Reward 38.000000. action: 1.000000. mean reward 56.403934.\n",
      "World Perf: Episode 382.000000. Reward 41.333333. action: 1.000000. mean reward 55.847324.\n",
      "World Perf: Episode 385.000000. Reward 59.333333. action: 0.000000. mean reward 55.405090.\n",
      "World Perf: Episode 388.000000. Reward 38.666667. action: 1.000000. mean reward 54.768101.\n",
      "World Perf: Episode 391.000000. Reward 41.666667. action: 1.000000. mean reward 54.222645.\n",
      "World Perf: Episode 394.000000. Reward 87.000000. action: 1.000000. mean reward 54.162140.\n",
      "World Perf: Episode 397.000000. Reward 34.333333. action: 0.000000. mean reward 53.688419.\n",
      "World Perf: Episode 400.000000. Reward 61.333333. action: 1.000000. mean reward 53.496414.\n",
      "World Perf: Episode 403.000000. Reward 73.666667. action: 1.000000. mean reward 53.245682.\n",
      "World Perf: Episode 406.000000. Reward 47.333333. action: 1.000000. mean reward 52.796986.\n",
      "World Perf: Episode 409.000000. Reward 59.333333. action: 0.000000. mean reward 52.413609.\n",
      "World Perf: Episode 412.000000. Reward 36.000000. action: 1.000000. mean reward 51.979481.\n",
      "World Perf: Episode 415.000000. Reward 107.333333. action: 0.000000. mean reward 52.217297.\n",
      "World Perf: Episode 418.000000. Reward 38.333333. action: 0.000000. mean reward 51.730927.\n",
      "World Perf: Episode 421.000000. Reward 54.000000. action: 0.000000. mean reward 51.362408.\n",
      "World Perf: Episode 424.000000. Reward 31.000000. action: 0.000000. mean reward 50.828533.\n",
      "World Perf: Episode 427.000000. Reward 46.000000. action: 0.000000. mean reward 50.394688.\n",
      "World Perf: Episode 430.000000. Reward 56.666667. action: 0.000000. mean reward 50.200367.\n",
      "World Perf: Episode 433.000000. Reward 28.333333. action: 1.000000. mean reward 49.710541.\n",
      "World Perf: Episode 436.000000. Reward 31.000000. action: 0.000000. mean reward 49.527451.\n",
      "World Perf: Episode 439.000000. Reward 47.000000. action: 0.000000. mean reward 49.396603.\n",
      "World Perf: Episode 442.000000. Reward 32.333333. action: 1.000000. mean reward 48.944706.\n",
      "World Perf: Episode 445.000000. Reward 81.000000. action: 1.000000. mean reward 48.886700.\n",
      "World Perf: Episode 448.000000. Reward 51.000000. action: 1.000000. mean reward 48.657028.\n",
      "World Perf: Episode 451.000000. Reward 58.333333. action: 1.000000. mean reward 48.455276.\n",
      "World Perf: Episode 454.000000. Reward 58.666667. action: 0.000000. mean reward 50.285309.\n",
      "World Perf: Episode 457.000000. Reward 38.000000. action: 0.000000. mean reward 50.885090.\n",
      "World Perf: Episode 460.000000. Reward 21.000000. action: 0.000000. mean reward 51.573685.\n",
      "World Perf: Episode 463.000000. Reward 64.000000. action: 0.000000. mean reward 51.298801.\n",
      "World Perf: Episode 466.000000. Reward 23.000000. action: 0.000000. mean reward 53.246021.\n",
      "World Perf: Episode 469.000000. Reward 64.333333. action: 0.000000. mean reward 53.041569.\n",
      "World Perf: Episode 472.000000. Reward 31.333333. action: 1.000000. mean reward 52.737980.\n",
      "World Perf: Episode 475.000000. Reward 56.666667. action: 1.000000. mean reward 52.487995.\n",
      "World Perf: Episode 478.000000. Reward 56.666667. action: 0.000000. mean reward 52.566910.\n",
      "World Perf: Episode 481.000000. Reward 46.000000. action: 0.000000. mean reward 54.850506.\n",
      "World Perf: Episode 484.000000. Reward 43.333333. action: 0.000000. mean reward 57.353947.\n",
      "World Perf: Episode 487.000000. Reward 43.333333. action: 1.000000. mean reward 56.780117.\n",
      "World Perf: Episode 490.000000. Reward 51.333333. action: 0.000000. mean reward 56.385342.\n",
      "World Perf: Episode 493.000000. Reward 53.000000. action: 0.000000. mean reward 60.418011.\n",
      "World Perf: Episode 496.000000. Reward 51.000000. action: 0.000000. mean reward 59.871689.\n",
      "World Perf: Episode 499.000000. Reward 77.666667. action: 1.000000. mean reward 59.568851.\n",
      "World Perf: Episode 502.000000. Reward 28.000000. action: 0.000000. mean reward 62.535397.\n",
      "World Perf: Episode 505.000000. Reward 26.666667. action: 0.000000. mean reward 61.888958.\n",
      "World Perf: Episode 508.000000. Reward 68.000000. action: 1.000000. mean reward 61.508148.\n",
      "World Perf: Episode 511.000000. Reward 31.000000. action: 0.000000. mean reward 60.728088.\n",
      "World Perf: Episode 514.000000. Reward 74.333333. action: 1.000000. mean reward 60.601986.\n",
      "World Perf: Episode 517.000000. Reward 22.333333. action: 0.000000. mean reward 59.987202.\n",
      "World Perf: Episode 520.000000. Reward 59.333333. action: 0.000000. mean reward 59.701904.\n",
      "World Perf: Episode 523.000000. Reward 43.666667. action: 1.000000. mean reward 59.163418.\n",
      "World Perf: Episode 526.000000. Reward 45.333333. action: 0.000000. mean reward 58.824955.\n"
     ]
    },
    {
     "ename": "KeyboardInterrupt",
     "evalue": "",
     "output_type": "error",
     "traceback": [
      "\u001b[1;31m---------------------------------------------------------------------------\u001b[0m",
      "\u001b[1;31mKeyboardInterrupt\u001b[0m                         Traceback (most recent call last)",
      "\u001b[1;32m<ipython-input-8-5bf96e473dd2>\u001b[0m in \u001b[0;36m<module>\u001b[1;34m()\u001b[0m\n\u001b[0;32m     41\u001b[0m             \u001b[0mobservation\u001b[0m\u001b[1;33m,\u001b[0m \u001b[0mreward\u001b[0m\u001b[1;33m,\u001b[0m \u001b[0mdone\u001b[0m\u001b[1;33m,\u001b[0m \u001b[0minfo\u001b[0m \u001b[1;33m=\u001b[0m \u001b[0menv\u001b[0m\u001b[1;33m.\u001b[0m\u001b[0mstep\u001b[0m\u001b[1;33m(\u001b[0m\u001b[0maction\u001b[0m\u001b[1;33m)\u001b[0m\u001b[1;33m\u001b[0m\u001b[0m\n\u001b[0;32m     42\u001b[0m         \u001b[1;32melse\u001b[0m\u001b[1;33m:\u001b[0m\u001b[1;33m\u001b[0m\u001b[0m\n\u001b[1;32m---> 43\u001b[1;33m             \u001b[0mobservation\u001b[0m\u001b[1;33m,\u001b[0m \u001b[0mreward\u001b[0m\u001b[1;33m,\u001b[0m \u001b[0mdone\u001b[0m \u001b[1;33m=\u001b[0m \u001b[0mstepModel\u001b[0m\u001b[1;33m(\u001b[0m\u001b[0msess\u001b[0m\u001b[1;33m,\u001b[0m\u001b[0mxs\u001b[0m\u001b[1;33m,\u001b[0m\u001b[0maction\u001b[0m\u001b[1;33m)\u001b[0m\u001b[1;33m\u001b[0m\u001b[0m\n\u001b[0m\u001b[0;32m     44\u001b[0m \u001b[1;33m\u001b[0m\u001b[0m\n\u001b[0;32m     45\u001b[0m         \u001b[0mreward_sum\u001b[0m \u001b[1;33m+=\u001b[0m \u001b[0mreward\u001b[0m\u001b[1;33m\u001b[0m\u001b[0m\n",
      "\u001b[1;32m<ipython-input-7-bb7e89bd01fb>\u001b[0m in \u001b[0;36mstepModel\u001b[1;34m(sess, xs, action)\u001b[0m\n\u001b[0;32m     29\u001b[0m \u001b[1;32mdef\u001b[0m \u001b[0mstepModel\u001b[0m\u001b[1;33m(\u001b[0m\u001b[0msess\u001b[0m\u001b[1;33m,\u001b[0m \u001b[0mxs\u001b[0m\u001b[1;33m,\u001b[0m \u001b[0maction\u001b[0m\u001b[1;33m)\u001b[0m\u001b[1;33m:\u001b[0m\u001b[1;33m\u001b[0m\u001b[0m\n\u001b[0;32m     30\u001b[0m     \u001b[0mtoFeed\u001b[0m \u001b[1;33m=\u001b[0m \u001b[0mnp\u001b[0m\u001b[1;33m.\u001b[0m\u001b[0mreshape\u001b[0m\u001b[1;33m(\u001b[0m\u001b[0mnp\u001b[0m\u001b[1;33m.\u001b[0m\u001b[0mhstack\u001b[0m\u001b[1;33m(\u001b[0m\u001b[1;33m[\u001b[0m\u001b[0mxs\u001b[0m\u001b[1;33m[\u001b[0m\u001b[1;33m-\u001b[0m\u001b[1;36m1\u001b[0m\u001b[1;33m]\u001b[0m\u001b[1;33m[\u001b[0m\u001b[1;36m0\u001b[0m\u001b[1;33m]\u001b[0m\u001b[1;33m,\u001b[0m\u001b[0mnp\u001b[0m\u001b[1;33m.\u001b[0m\u001b[0marray\u001b[0m\u001b[1;33m(\u001b[0m\u001b[0maction\u001b[0m\u001b[1;33m)\u001b[0m\u001b[1;33m]\u001b[0m\u001b[1;33m)\u001b[0m\u001b[1;33m,\u001b[0m\u001b[1;33m[\u001b[0m\u001b[1;36m1\u001b[0m\u001b[1;33m,\u001b[0m\u001b[1;36m5\u001b[0m\u001b[1;33m]\u001b[0m\u001b[1;33m)\u001b[0m\u001b[1;33m\u001b[0m\u001b[0m\n\u001b[1;32m---> 31\u001b[1;33m     \u001b[0mmyPredict\u001b[0m \u001b[1;33m=\u001b[0m \u001b[0msess\u001b[0m\u001b[1;33m.\u001b[0m\u001b[0mrun\u001b[0m\u001b[1;33m(\u001b[0m\u001b[1;33m[\u001b[0m\u001b[0mpredicted_state\u001b[0m\u001b[1;33m]\u001b[0m\u001b[1;33m,\u001b[0m\u001b[0mfeed_dict\u001b[0m\u001b[1;33m=\u001b[0m\u001b[1;33m{\u001b[0m\u001b[0mprevious_state\u001b[0m\u001b[1;33m:\u001b[0m \u001b[0mtoFeed\u001b[0m\u001b[1;33m}\u001b[0m\u001b[1;33m)\u001b[0m\u001b[1;33m\u001b[0m\u001b[0m\n\u001b[0m\u001b[0;32m     32\u001b[0m     \u001b[0mreward\u001b[0m \u001b[1;33m=\u001b[0m \u001b[0mmyPredict\u001b[0m\u001b[1;33m[\u001b[0m\u001b[1;36m0\u001b[0m\u001b[1;33m]\u001b[0m\u001b[1;33m[\u001b[0m\u001b[1;33m:\u001b[0m\u001b[1;33m,\u001b[0m\u001b[1;36m4\u001b[0m\u001b[1;33m]\u001b[0m\u001b[1;33m\u001b[0m\u001b[0m\n\u001b[0;32m     33\u001b[0m     \u001b[0mobservation\u001b[0m \u001b[1;33m=\u001b[0m \u001b[0mmyPredict\u001b[0m\u001b[1;33m[\u001b[0m\u001b[1;36m0\u001b[0m\u001b[1;33m]\u001b[0m\u001b[1;33m[\u001b[0m\u001b[1;33m:\u001b[0m\u001b[1;33m,\u001b[0m\u001b[1;36m0\u001b[0m\u001b[1;33m:\u001b[0m\u001b[1;36m4\u001b[0m\u001b[1;33m]\u001b[0m\u001b[1;33m\u001b[0m\u001b[0m\n",
      "\u001b[1;32mC:\\Users\\yluaw\\Downloads\\shaoyu\\python-3.5.3.amd64\\lib\\site-packages\\tensorflow\\python\\client\\session.py\u001b[0m in \u001b[0;36mrun\u001b[1;34m(self, fetches, feed_dict, options, run_metadata)\u001b[0m\n\u001b[0;32m    776\u001b[0m     \u001b[1;32mtry\u001b[0m\u001b[1;33m:\u001b[0m\u001b[1;33m\u001b[0m\u001b[0m\n\u001b[0;32m    777\u001b[0m       result = self._run(None, fetches, feed_dict, options_ptr,\n\u001b[1;32m--> 778\u001b[1;33m                          run_metadata_ptr)\n\u001b[0m\u001b[0;32m    779\u001b[0m       \u001b[1;32mif\u001b[0m \u001b[0mrun_metadata\u001b[0m\u001b[1;33m:\u001b[0m\u001b[1;33m\u001b[0m\u001b[0m\n\u001b[0;32m    780\u001b[0m         \u001b[0mproto_data\u001b[0m \u001b[1;33m=\u001b[0m \u001b[0mtf_session\u001b[0m\u001b[1;33m.\u001b[0m\u001b[0mTF_GetBuffer\u001b[0m\u001b[1;33m(\u001b[0m\u001b[0mrun_metadata_ptr\u001b[0m\u001b[1;33m)\u001b[0m\u001b[1;33m\u001b[0m\u001b[0m\n",
      "\u001b[1;32mC:\\Users\\yluaw\\Downloads\\shaoyu\\python-3.5.3.amd64\\lib\\site-packages\\tensorflow\\python\\client\\session.py\u001b[0m in \u001b[0;36m_run\u001b[1;34m(self, handle, fetches, feed_dict, options, run_metadata)\u001b[0m\n\u001b[0;32m    980\u001b[0m     \u001b[1;32mif\u001b[0m \u001b[0mfinal_fetches\u001b[0m \u001b[1;32mor\u001b[0m \u001b[0mfinal_targets\u001b[0m\u001b[1;33m:\u001b[0m\u001b[1;33m\u001b[0m\u001b[0m\n\u001b[0;32m    981\u001b[0m       results = self._do_run(handle, final_targets, final_fetches,\n\u001b[1;32m--> 982\u001b[1;33m                              feed_dict_string, options, run_metadata)\n\u001b[0m\u001b[0;32m    983\u001b[0m     \u001b[1;32melse\u001b[0m\u001b[1;33m:\u001b[0m\u001b[1;33m\u001b[0m\u001b[0m\n\u001b[0;32m    984\u001b[0m       \u001b[0mresults\u001b[0m \u001b[1;33m=\u001b[0m \u001b[1;33m[\u001b[0m\u001b[1;33m]\u001b[0m\u001b[1;33m\u001b[0m\u001b[0m\n",
      "\u001b[1;32mC:\\Users\\yluaw\\Downloads\\shaoyu\\python-3.5.3.amd64\\lib\\site-packages\\tensorflow\\python\\client\\session.py\u001b[0m in \u001b[0;36m_do_run\u001b[1;34m(self, handle, target_list, fetch_list, feed_dict, options, run_metadata)\u001b[0m\n\u001b[0;32m   1030\u001b[0m     \u001b[1;32mif\u001b[0m \u001b[0mhandle\u001b[0m \u001b[1;32mis\u001b[0m \u001b[1;32mNone\u001b[0m\u001b[1;33m:\u001b[0m\u001b[1;33m\u001b[0m\u001b[0m\n\u001b[0;32m   1031\u001b[0m       return self._do_call(_run_fn, self._session, feed_dict, fetch_list,\n\u001b[1;32m-> 1032\u001b[1;33m                            target_list, options, run_metadata)\n\u001b[0m\u001b[0;32m   1033\u001b[0m     \u001b[1;32melse\u001b[0m\u001b[1;33m:\u001b[0m\u001b[1;33m\u001b[0m\u001b[0m\n\u001b[0;32m   1034\u001b[0m       return self._do_call(_prun_fn, self._session, handle, feed_dict,\n",
      "\u001b[1;32mC:\\Users\\yluaw\\Downloads\\shaoyu\\python-3.5.3.amd64\\lib\\site-packages\\tensorflow\\python\\client\\session.py\u001b[0m in \u001b[0;36m_do_call\u001b[1;34m(self, fn, *args)\u001b[0m\n\u001b[0;32m   1037\u001b[0m   \u001b[1;32mdef\u001b[0m \u001b[0m_do_call\u001b[0m\u001b[1;33m(\u001b[0m\u001b[0mself\u001b[0m\u001b[1;33m,\u001b[0m \u001b[0mfn\u001b[0m\u001b[1;33m,\u001b[0m \u001b[1;33m*\u001b[0m\u001b[0margs\u001b[0m\u001b[1;33m)\u001b[0m\u001b[1;33m:\u001b[0m\u001b[1;33m\u001b[0m\u001b[0m\n\u001b[0;32m   1038\u001b[0m     \u001b[1;32mtry\u001b[0m\u001b[1;33m:\u001b[0m\u001b[1;33m\u001b[0m\u001b[0m\n\u001b[1;32m-> 1039\u001b[1;33m       \u001b[1;32mreturn\u001b[0m \u001b[0mfn\u001b[0m\u001b[1;33m(\u001b[0m\u001b[1;33m*\u001b[0m\u001b[0margs\u001b[0m\u001b[1;33m)\u001b[0m\u001b[1;33m\u001b[0m\u001b[0m\n\u001b[0m\u001b[0;32m   1040\u001b[0m     \u001b[1;32mexcept\u001b[0m \u001b[0merrors\u001b[0m\u001b[1;33m.\u001b[0m\u001b[0mOpError\u001b[0m \u001b[1;32mas\u001b[0m \u001b[0me\u001b[0m\u001b[1;33m:\u001b[0m\u001b[1;33m\u001b[0m\u001b[0m\n\u001b[0;32m   1041\u001b[0m       \u001b[0mmessage\u001b[0m \u001b[1;33m=\u001b[0m \u001b[0mcompat\u001b[0m\u001b[1;33m.\u001b[0m\u001b[0mas_text\u001b[0m\u001b[1;33m(\u001b[0m\u001b[0me\u001b[0m\u001b[1;33m.\u001b[0m\u001b[0mmessage\u001b[0m\u001b[1;33m)\u001b[0m\u001b[1;33m\u001b[0m\u001b[0m\n",
      "\u001b[1;32mC:\\Users\\yluaw\\Downloads\\shaoyu\\python-3.5.3.amd64\\lib\\site-packages\\tensorflow\\python\\client\\session.py\u001b[0m in \u001b[0;36m_run_fn\u001b[1;34m(session, feed_dict, fetch_list, target_list, options, run_metadata)\u001b[0m\n\u001b[0;32m   1019\u001b[0m         return tf_session.TF_Run(session, options,\n\u001b[0;32m   1020\u001b[0m                                  \u001b[0mfeed_dict\u001b[0m\u001b[1;33m,\u001b[0m \u001b[0mfetch_list\u001b[0m\u001b[1;33m,\u001b[0m \u001b[0mtarget_list\u001b[0m\u001b[1;33m,\u001b[0m\u001b[1;33m\u001b[0m\u001b[0m\n\u001b[1;32m-> 1021\u001b[1;33m                                  status, run_metadata)\n\u001b[0m\u001b[0;32m   1022\u001b[0m \u001b[1;33m\u001b[0m\u001b[0m\n\u001b[0;32m   1023\u001b[0m     \u001b[1;32mdef\u001b[0m \u001b[0m_prun_fn\u001b[0m\u001b[1;33m(\u001b[0m\u001b[0msession\u001b[0m\u001b[1;33m,\u001b[0m \u001b[0mhandle\u001b[0m\u001b[1;33m,\u001b[0m \u001b[0mfeed_dict\u001b[0m\u001b[1;33m,\u001b[0m \u001b[0mfetch_list\u001b[0m\u001b[1;33m)\u001b[0m\u001b[1;33m:\u001b[0m\u001b[1;33m\u001b[0m\u001b[0m\n",
      "\u001b[1;31mKeyboardInterrupt\u001b[0m: "
     ]
    }
   ],
   "source": [
    "xs,drs,ys,ds = [],[],[],[]\n",
    "running_reward = None\n",
    "reward_sum = 0\n",
    "episode_number = 1\n",
    "real_episodes = 1\n",
    "init = tf.global_variables_initializer()\n",
    "batch_size = real_bs\n",
    "\n",
    "drawFromModel = False # When set to True, will use model for observations\n",
    "trainTheModel = True # Whether to train the model\n",
    "trainThePolicy = False # Whether to train the policy\n",
    "switch_point = 1\n",
    "\n",
    "# Launch the graph\n",
    "with tf.Session() as sess:\n",
    "    rendering = False\n",
    "    sess.run(init)\n",
    "    observation = env.reset()\n",
    "    x = observation\n",
    "    gradBuffer = sess.run(tvars)\n",
    "    gradBuffer = resetGradBuffer(gradBuffer)\n",
    "    \n",
    "    while episode_number <= 5000:\n",
    "        # Start displaying environment once performance is acceptably high.\n",
    "        if (reward_sum/batch_size > 150 and drawFromModel == False) or rendering == True : \n",
    "            env.render()\n",
    "            rendering = True\n",
    "            \n",
    "        x = np.reshape(observation,[1,4])\n",
    "\n",
    "        tfprob = sess.run(probability,feed_dict={observations: x})\n",
    "        action = 1 if np.random.uniform() < tfprob else 0\n",
    "\n",
    "        # record various intermediates (needed later for backprop)\n",
    "        xs.append(x) \n",
    "        y = 1 if action == 0 else 0 \n",
    "        ys.append(y)\n",
    "        \n",
    "        # step the  model or real environment and get new measurements\n",
    "        if drawFromModel == False:\n",
    "            observation, reward, done, info = env.step(action)\n",
    "        else:\n",
    "            observation, reward, done = stepModel(sess,xs,action)\n",
    "                \n",
    "        reward_sum += reward\n",
    "        \n",
    "        ds.append(done*1)\n",
    "        drs.append(reward) # record reward (has to be done after we call step() to get reward for previous action)\n",
    "\n",
    "        if done: \n",
    "            \n",
    "            if drawFromModel == False: \n",
    "                real_episodes += 1\n",
    "            episode_number += 1\n",
    "\n",
    "            # stack together all inputs, hidden states, action gradients, and rewards for this episode\n",
    "            epx = np.vstack(xs)\n",
    "            epy = np.vstack(ys)\n",
    "            epr = np.vstack(drs)\n",
    "            epd = np.vstack(ds)\n",
    "            xs,drs,ys,ds = [],[],[],[] # reset array memory\n",
    "            \n",
    "            if trainTheModel == True:\n",
    "                \n",
    "                ################################################################################\n",
    "                # TODO: Implement training of the mode                                         #\n",
    "                ################################################################################\n",
    "                pass\n",
    "                ################################################################################\n",
    "                #                                 END OF YOUR CODE                             #\n",
    "                ################################################################################\n",
    "                \n",
    "\n",
    "            if trainThePolicy == True:\n",
    "                \n",
    "                ################################################################################\n",
    "                # TODO: Implement training of the policy                                       #\n",
    "                ################################################################################\n",
    "                pass\n",
    "                ################################################################################\n",
    "                #                                 END OF YOUR CODE                             #\n",
    "                ################################################################################\n",
    "                \n",
    "                # If gradients becom too large, end training process\n",
    "                if np.sum(tGrad[0] == tGrad[0]) == 0:\n",
    "                    break\n",
    "                for ix,grad in enumerate(tGrad):\n",
    "                    gradBuffer[ix] += grad\n",
    "                \n",
    "            if switch_point + batch_size == episode_number: \n",
    "                switch_point = episode_number\n",
    "                if trainThePolicy == True:\n",
    "                    sess.run(updateGrads,feed_dict={W1Grad: gradBuffer[0],W2Grad:gradBuffer[1]})\n",
    "                    gradBuffer = resetGradBuffer(gradBuffer)\n",
    "\n",
    "                running_reward = reward_sum if running_reward is None else running_reward * 0.99 + reward_sum * 0.01\n",
    "                if drawFromModel == False:\n",
    "                    print('World Perf: Episode %f. Reward %f. action: %f. mean reward %f.' % (real_episodes,reward_sum/real_bs,action, running_reward/real_bs))\n",
    "                    if reward_sum/batch_size > 200:\n",
    "                        break\n",
    "                reward_sum = 0\n",
    "\n",
    "                # Once the model has been trained on 100 episodes\n",
    "                if episode_number > 100:\n",
    "                    \n",
    "                    ################################################################################\n",
    "                    # TODO: Alternating between training the policy from the model and training    #\n",
    "                    # the model from the real environment.                                         #\n",
    "                    ################################################################################\n",
    "                    pass\n",
    "                    ################################################################################\n",
    "                    #                                 END OF YOUR CODE                             #\n",
    "                    ################################################################################\n",
    "            \n",
    "            if drawFromModel == True:\n",
    "                observation = np.random.uniform(-0.1,0.1,[4]) # Generate reasonable starting point\n",
    "                batch_size = model_bs\n",
    "            else:\n",
    "                observation = env.reset()\n",
    "                batch_size = real_bs\n",
    "                \n",
    "print(real_episodes)"
   ]
  },
  {
   "cell_type": "markdown",
   "metadata": {},
   "source": [
    "### Checking model representation\n",
    "Here we can examine how well the model is able to approximate the true environment after training. The green line indicates the real environment, and the blue indicates model predictions."
   ]
  },
  {
   "cell_type": "code",
   "execution_count": 9,
   "metadata": {},
   "outputs": [
    {
     "data": {
      "image/png": "[encoded data removed]",
      "text/plain": [
       "<matplotlib.figure.Figure at 0x2124ab74128>"
      ]
     },
     "metadata": {},
     "output_type": "display_data"
    }
   ],
   "source": [
    "plt.figure(figsize=(8, 12))\n",
    "for i in range(6):\n",
    "    plt.subplot(6, 2, 2*i + 1)\n",
    "    plt.plot(pState[:,i])\n",
    "    plt.subplot(6,2,2*i+1)\n",
    "    plt.plot(state_nextsAll[:,i])\n",
    "plt.tight_layout()"
   ]
  },
  {
   "cell_type": "code",
   "execution_count": null,
   "metadata": {
    "collapsed": true
   },
   "outputs": [],
   "source": []
  },
  {
   "cell_type": "code",
   "execution_count": null,
   "metadata": {
    "collapsed": true
   },
   "outputs": [],
   "source": []
  },
  {
   "cell_type": "code",
   "execution_count": null,
   "metadata": {
    "collapsed": true
   },
   "outputs": [],
   "source": []
  },
  {
   "cell_type": "code",
   "execution_count": null,
   "metadata": {
    "collapsed": true
   },
   "outputs": [],
   "source": []
  },
  {
   "cell_type": "code",
   "execution_count": null,
   "metadata": {
    "collapsed": true
   },
   "outputs": [],
   "source": []
  }
 ],
 "metadata": {
  "kernelspec": {
   "display_name": "Python 3",
   "language": "python",
   "name": "python3"
  },
  "language_info": {
   "codemirror_mode": {
    "name": "ipython",
    "version": 3
   },
   "file_extension": ".py",
   "mimetype": "text/x-python",
   "name": "python",
   "nbconvert_exporter": "python",
   "pygments_lexer": "ipython3",
   "version": "3.5.3"
  }
 },
 "nbformat": 4,
 "nbformat_minor": 1
}
